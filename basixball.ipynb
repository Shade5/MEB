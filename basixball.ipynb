{
 "cells": [
  {
   "cell_type": "code",
   "execution_count": 34,
   "metadata": {
    "collapsed": true
   },
   "outputs": [],
   "source": [
    "import numpy as np\n",
    "from matplotlib import pyplot as plt"
   ]
  },
  {
   "cell_type": "code",
   "execution_count": 53,
   "metadata": {
    "collapsed": true
   },
   "outputs": [],
   "source": [
    "def genpoints(x=(-1,1),y=(-1,1),N=10):\n",
    "    \"\"\"Generates the random points\n",
    "    \"\"\"\n",
    "    X = np.random.uniform(x[0],x[1],N)\n",
    "    Y = np.random.uniform(y[0],y[1],N)\n",
    "    return np.vstack((X,Y)).T"
   ]
  },
  {
   "cell_type": "code",
   "execution_count": 54,
   "metadata": {
    "collapsed": true
   },
   "outputs": [],
   "source": [
    "def shot(points,center,R):\n",
    "    \"\"\"Plots the points and the circle\n",
    "    \"\"\"\n",
    "    for i in range(len(points)):\n",
    "        plt.plot(points[i,0],points[i,1],'bo')\n",
    "    circle(center,R)\n",
    "    plt.show()"
   ]
  },
  {
   "cell_type": "code",
   "execution_count": 55,
   "metadata": {
    "collapsed": true
   },
   "outputs": [],
   "source": [
    "def circle(center,R):\n",
    "    \"\"\"Plots the given circle\n",
    "    \"\"\"\n",
    "    circ=plt.Circle(center, radius=R, color='g', fill=False)\n",
    "    plt.gca().add_patch(circ)\n",
    "    plt.axis('scaled')  "
   ]
  },
  {
   "cell_type": "code",
   "execution_count": 63,
   "metadata": {
    "collapsed": true
   },
   "outputs": [],
   "source": [
    "def checkinside(point,center,R):\n",
    "    \"\"\"Checks is the point is inside the ball.\n",
    "    Works for any dimension\n",
    "    \"\"\"\n",
    "    return sum(np.square(np.subtract(point,center))) <= R"
   ]
  },
  {
   "cell_type": "code",
   "execution_count": 67,
   "metadata": {
    "collapsed": false
   },
   "outputs": [
    {
     "data": {
      "image/png": "[encoded data removed]",
      "text/plain": [
       "<matplotlib.figure.Figure at 0x7f84fdd92898>"
      ]
     },
     "metadata": {},
     "output_type": "display_data"
    },
    {
     "name": "stdout",
     "output_type": "stream",
     "text": [
      "[-0.05535282  0.99944266] False\n",
      "[ 0.64386649 -0.10965509] True\n",
      "[ 0.70133538  0.01330231] True\n",
      "[ 0.64142861  0.70343302] True\n",
      "[-0.38331792  0.13670673] True\n",
      "[ 0.17547067  0.12696167] True\n",
      "[-0.3723325   0.05774187] True\n",
      "[ 0.38879623  0.57341734] True\n",
      "[ 0.66048659  0.63826985] True\n",
      "[ 0.66159704 -0.73109648] True\n"
     ]
    }
   ],
   "source": [
    "points = genpoints()\n",
    "shot(points,(0,0),1)\n",
    "\n",
    "for i in range(len(points)):\n",
    "    print(points[i],checkinside(points[i],(0,0),1))\n"
   ]
  },
  {
   "cell_type": "code",
   "execution_count": null,
   "metadata": {
    "collapsed": true
   },
   "outputs": [],
   "source": []
  }
 ],
 "metadata": {
  "kernelspec": {
   "display_name": "Python 3",
   "language": "python",
   "name": "python3"
  },
  "language_info": {
   "codemirror_mode": {
    "name": "ipython",
    "version": 3
   },
   "file_extension": ".py",
   "mimetype": "text/x-python",
   "name": "python",
   "nbconvert_exporter": "python",
   "pygments_lexer": "ipython3",
   "version": "3.5.2"
  }
 },
 "nbformat": 4,
 "nbformat_minor": 2
}
