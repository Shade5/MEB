{
 "cells": [
  {
   "cell_type": "code",
   "execution_count": 34,
   "metadata": {
    "collapsed": true
   },
   "outputs": [],
   "source": [
    "import numpy as np\n",
    "from matplotlib import pyplot as plt"
   ]
  },
  {
   "cell_type": "code",
   "execution_count": 53,
   "metadata": {
    "collapsed": true
   },
   "outputs": [],
   "source": [
    "def genpoints(x=(-1,1),y=(-1,1),N=10):\n",
    "    X = np.random.uniform(x[0],x[1],N)\n",
    "    Y = np.random.uniform(y[0],y[1],N)\n",
    "    return np.vstack((X,Y)).T"
   ]
  },
  {
   "cell_type": "code",
   "execution_count": 54,
   "metadata": {
    "collapsed": true
   },
   "outputs": [],
   "source": [
    "def shot(points,center,R):\n",
    "    \"\"\"Plots the points and the circle\n",
    "    \"\"\"\n",
    "    for i in range(len(points)):\n",
    "        plt.plot(points[i,0],points[i,1],'bo')\n",
    "    circle(center,R)\n",
    "    plt.show()"
   ]
  },
  {
   "cell_type": "code",
   "execution_count": 55,
   "metadata": {
    "collapsed": true
   },
   "outputs": [],
   "source": [
    "def circle(center,R):\n",
    "    \"\"\"Plots the given circle\n",
    "    \"\"\"\n",
    "    circ=plt.Circle(center, radius=R, color='g', fill=False)\n",
    "    plt.gca().add_patch(circ)\n",
    "    plt.axis('scaled')  "
   ]
  },
  {
   "cell_type": "code",
   "execution_count": 63,
   "metadata": {
    "collapsed": true
   },
   "outputs": [],
   "source": [
    "def checkinside(point,center,R):\n",
    "    \"\"\"Checks is the point is inside the ball.\n",
    "    Works for any dimension\n",
    "    \"\"\"\n",
    "    return sum(np.square(np.subtract(point,center))) <= R"
   ]
  },
  {
   "cell_type": "code",
   "execution_count": 65,
   "metadata": {
    "collapsed": false
   },
   "outputs": [
    {
     "data": {
      "image/png": "[encoded data removed]",
      "text/plain": [
       "<matplotlib.figure.Figure at 0x7f84fdd92400>"
      ]
     },
     "metadata": {},
     "output_type": "display_data"
    },
    {
     "name": "stdout",
     "output_type": "stream",
     "text": [
      "[-0.44562349  0.37097582] True\n",
      "[ 0.86412449  0.37459999] True\n",
      "[-0.22227815 -0.25588464] True\n",
      "[-0.66381553 -0.8214152 ] False\n",
      "[ 0.71588721 -0.64452816] True\n",
      "[-0.36931302 -0.30425038] True\n",
      "[-0.92608442  0.53779402] False\n",
      "[ 0.42626871 -0.56228516] True\n",
      "[-0.44172805  0.2065822 ] True\n",
      "[ 0.95714461  0.18685195] True\n"
     ]
    }
   ],
   "source": [
    "points = genpoints()\n",
    "shot(points,(0,0),1)\n",
    "\n",
    "for i in range(len(points)):\n",
    "    print(points[i],checkinside(points[i],(0,0),1))\n"
   ]
  },
  {
   "cell_type": "code",
   "execution_count": null,
   "metadata": {
    "collapsed": true
   },
   "outputs": [],
   "source": []
  }
 ],
 "metadata": {
  "kernelspec": {
   "display_name": "Python 3",
   "language": "python",
   "name": "python3"
  },
  "language_info": {
   "codemirror_mode": {
    "name": "ipython",
    "version": 3
   },
   "file_extension": ".py",
   "mimetype": "text/x-python",
   "name": "python",
   "nbconvert_exporter": "python",
   "pygments_lexer": "ipython3",
   "version": "3.5.2"
  }
 },
 "nbformat": 4,
 "nbformat_minor": 2
}
