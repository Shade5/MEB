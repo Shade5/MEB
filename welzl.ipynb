{
 "cells": [
  {
   "cell_type": "code",
   "execution_count": 361,
   "metadata": {
    "collapsed": true
   },
   "outputs": [],
   "source": [
    "import numpy as np\n",
    "from matplotlib import pyplot as plt"
   ]
  },
  {
   "cell_type": "code",
   "execution_count": 362,
   "metadata": {
    "collapsed": true
   },
   "outputs": [],
   "source": [
    "def genpoints(x=(-1,1),y=(-1,1),N=10):\n",
    "    \"\"\"Generates the random points\n",
    "    \"\"\"\n",
    "    X = np.random.uniform(x[0],x[1],N)\n",
    "    Y = np.random.uniform(y[0],y[1],N)\n",
    "    return np.vstack((X,Y)).T"
   ]
  },
  {
   "cell_type": "code",
   "execution_count": 363,
   "metadata": {
    "collapsed": true
   },
   "outputs": [],
   "source": [
    "def shot(points,center,R):\n",
    "    \"\"\"Plots the points and the circle\n",
    "    \"\"\"\n",
    "    for i in range(len(points)):\n",
    "        plt.plot(points[i,0],points[i,1],'bo')\n",
    "    circle(center,R)\n",
    "    plt.gca().set_aspect('equal', adjustable='box')\n",
    "    plt.show()"
   ]
  },
  {
   "cell_type": "code",
   "execution_count": 364,
   "metadata": {
    "collapsed": true
   },
   "outputs": [],
   "source": [
    "def circle(center,R):\n",
    "    \"\"\"Plots the given circle\n",
    "    \"\"\"\n",
    "    circ=plt.Circle(center, radius=R, color='g', fill=False)\n",
    "    plt.gca().add_patch(circ)\n",
    "    plt.axis('scaled')\n",
    "    #plt.axis([-1, 1, -1, 1])"
   ]
  },
  {
   "cell_type": "code",
   "execution_count": 365,
   "metadata": {
    "collapsed": true
   },
   "outputs": [],
   "source": [
    "def checkinside(point,center,R):\n",
    "    \"\"\"Checks is the point is inside the ball.\n",
    "    Works for any dimension\n",
    "    \"\"\"\n",
    "    return sum(np.square(np.subtract(point,center))) <= R*R"
   ]
  },
  {
   "cell_type": "code",
   "execution_count": 366,
   "metadata": {
    "collapsed": false
   },
   "outputs": [],
   "source": [
    "class D:\n",
    "    def __init__(self,r=0,c=(0,0)):\n",
    "        self.R = r;\n",
    "        self.center = c   "
   ]
  },
  {
   "cell_type": "code",
   "execution_count": 367,
   "metadata": {
    "collapsed": false
   },
   "outputs": [],
   "source": [
    "def cir3(p1,p2,p3):  \n",
    "    x, y, z = complex(p1[0],p1[1]), complex(p2[0],p2[1]), complex(p3[0],p3[1])\n",
    "    w = z-x\n",
    "    w /= y-x\n",
    "    c = (x-y)*(w-abs(w)**2)/2j/w.imag-x\n",
    "    return (-c.real, -c.imag), abs(c+x)"
   ]
  },
  {
   "cell_type": "code",
   "execution_count": 368,
   "metadata": {
    "collapsed": false
   },
   "outputs": [],
   "source": [
    "def calcDiskDirectly(R):\n",
    "    n = len(R)\n",
    "    if n == 0:\n",
    "        return D()\n",
    "    elif n == 1:\n",
    "        return D(0,R[0])\n",
    "    elif n == 2:\n",
    "        return D(np.sqrt((R[0][0]-R[1][0])**2 + (R[0][1]-R[1][1])**2)/2,((R[0][0]+R[1][0])/2,(R[0][1]+R[1][1])/2))\n",
    "    elif n == 3:\n",
    "        c,r = cir3(R[0],R[1],R[2])\n",
    "        return D(r,c)\n",
    "    else:\n",
    "        print(\"error!!!\")"
   ]
  },
  {
   "cell_type": "code",
   "execution_count": 369,
   "metadata": {
    "collapsed": false
   },
   "outputs": [],
   "source": [
    "def sed(P,R): \n",
    "    if (len(P)== 0 or len(R) == 3):\n",
    "         d = calcDiskDirectly(R)\n",
    "    else:\n",
    "        rax = np.random.randint(len(P))\n",
    "        temp = list(P)\n",
    "        del temp[rax]\n",
    "        d = sed(temp, R);\n",
    "        if (not checkinside(P[rax],d.center,d.R)):\n",
    "            temp2 = list(R)\n",
    "            temp2.append(P[rax])\n",
    "            d = sed(temp, temp2);\n",
    "        #shot(np.array(P),d.center,d.R)\n",
    "    return d"
   ]
  },
  {
   "cell_type": "code",
   "execution_count": 379,
   "metadata": {
    "collapsed": false
   },
   "outputs": [
    {
     "data": {
      "image/png": "[encoded data removed]",
      "text/plain": [
       "<matplotlib.figure.Figure at 0x7fd2eba3eeb8>"
      ]
     },
     "metadata": {},
     "output_type": "display_data"
    }
   ],
   "source": [
    "points = genpoints((-10,10),(-10,10),50)\n",
    "R=[]\n",
    "d = sed(points,R)\n",
    "plt.plot(d.center[0],d.center[1],'go',markersize=20)\n",
    "for i in points:\n",
    "    if(not checkinside(i,d.center,d.R)):\n",
    "        plt.plot(i[0],i[1],'ro',markersize=20)\n",
    "shot(points,d.center,d.R)"
   ]
  },
  {
   "cell_type": "code",
   "execution_count": null,
   "metadata": {
    "collapsed": true
   },
   "outputs": [],
   "source": []
  }
 ],
 "metadata": {
  "kernelspec": {
   "display_name": "Python 3",
   "language": "python",
   "name": "python3"
  },
  "language_info": {
   "codemirror_mode": {
    "name": "ipython",
    "version": 3
   },
   "file_extension": ".py",
   "mimetype": "text/x-python",
   "name": "python",
   "nbconvert_exporter": "python",
   "pygments_lexer": "ipython3",
   "version": "3.5.2"
  }
 },
 "nbformat": 4,
 "nbformat_minor": 2
}
